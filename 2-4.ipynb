{
 "cells": [
  {
   "cell_type": "markdown",
   "metadata": {},
   "source": [
    "\"We, the people of India, having solemnly resolved to constitute India into a SOVEREIGN, SOCIALIST, SECULAR,DEMOCRATIC, REPUBLIC and to secure to all of its citizens"
   ]
  },
  {
   "cell_type": "code",
   "execution_count": 27,
   "metadata": {},
   "outputs": [
    {
     "name": "stdout",
     "output_type": "stream",
     "text": [
      "WE, THE PEOPLE OF INDIA, \n",
      " \thaving solemnly resolved to constitute india into a SOVEREIGN,!\n",
      "\t \t SOCIALIST, SECULAR,DEMOCRATIC, REPUBLIC\n",
      " \t \t and to secure to all of its citizens: \n"
     ]
    }
   ],
   "source": [
    "print((\"WE, THE PEOPLE OF INDIA, {} {}having solemnly resolved to constitute india into a SOVEREIGN,{}{}{} SOCIALIST, SECULAR,DEMOCRATIC, REPUBLIC{} and to secure to all of its citizens{} \").format(\"\\n\",\"\\t\",\"!\",\"\\n\",\"\\t \\t\",\"\\n \\t \\t\",\":\"))"
   ]
  },
  {
   "cell_type": "code",
   "execution_count": null,
   "metadata": {},
   "outputs": [],
   "source": []
  }
 ],
 "metadata": {
  "kernelspec": {
   "display_name": "Python [conda env:Anaconda3]",
   "language": "python",
   "name": "conda-env-Anaconda3-py"
  },
  "language_info": {
   "codemirror_mode": {
    "name": "ipython",
    "version": 3
   },
   "file_extension": ".py",
   "mimetype": "text/x-python",
   "name": "python",
   "nbconvert_exporter": "python",
   "pygments_lexer": "ipython3",
   "version": "3.6.5"
  }
 },
 "nbformat": 4,
 "nbformat_minor": 2
}
